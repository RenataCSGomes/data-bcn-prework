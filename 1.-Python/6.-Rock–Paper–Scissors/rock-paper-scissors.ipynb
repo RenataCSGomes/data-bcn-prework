{
 "cells": [
  {
   "cell_type": "code",
   "execution_count": 1,
   "metadata": {},
   "outputs": [
    {
     "ename": "SyntaxError",
     "evalue": "invalid syntax (<ipython-input-1-54029ebb21e9>, line 1)",
     "output_type": "error",
     "traceback": [
      "\u001b[1;36m  File \u001b[1;32m\"<ipython-input-1-54029ebb21e9>\"\u001b[1;36m, line \u001b[1;32m1\u001b[0m\n\u001b[1;33m    <img src=\"https://bit.ly/2VnXWr2\" width=\"100\" align=\"left\">\u001b[0m\n\u001b[1;37m    ^\u001b[0m\n\u001b[1;31mSyntaxError\u001b[0m\u001b[1;31m:\u001b[0m invalid syntax\n"
     ]
    }
   ],
   "source": [
    "<img src=\"https://bit.ly/2VnXWr2\" width=\"100\" align=\"left\">"
   ]
  },
  {
   "cell_type": "markdown",
   "metadata": {},
   "source": [
    "# Rock, Paper & Scissors\n",
    "\n",
    "Let's play the famous game against our computer. You can check the rules [here](https://en.wikipedia.org/wiki/Rock%E2%80%93paper%E2%80%93scissors). \n",
    "\n",
    "## Task\n",
    "Create a program that imitates the playability of the well known game of rock, paper, scissors. Follow the guidelines provided.\n",
    "\n",
    "## Tools\n",
    "1. Loop: **for/while**\n",
    "2. Functions: **input(), print()...**\n",
    "3. Conditional statements: **if, elif, else**\n",
    "4. Definition of functions. Modular programming\n",
    "5. Import modules\n",
    "\n",
    "**To solve this challenge, the use of functions is recommended.**\n",
    "\n",
    "#### 1. Import the choice function of the random module."
   ]
  },
  {
   "cell_type": "code",
   "execution_count": 2,
   "metadata": {},
   "outputs": [],
   "source": [
    "import random"
   ]
  },
  {
   "cell_type": "markdown",
   "metadata": {},
   "source": [
    "#### 2. Create a list that includes the 3 possible gesture options of the game: 'rock', 'paper' or 'scissors'. Store the list in a variable called `gestures`."
   ]
  },
  {
   "cell_type": "code",
   "execution_count": 3,
   "metadata": {},
   "outputs": [],
   "source": [
    "gestures = [\"rock\", \"paper\", \"scissors\"]"
   ]
  },
  {
   "cell_type": "markdown",
   "metadata": {},
   "source": [
    "#### 3. Create a variable called `n_rounds` to store the maximum number of rounds to play in a game. \n",
    "Remember that the number of rounds must be odd: 1, 3, 5, ..."
   ]
  },
  {
   "cell_type": "code",
   "execution_count": 4,
   "metadata": {},
   "outputs": [],
   "source": [
    "n_rounds = 10"
   ]
  },
  {
   "cell_type": "markdown",
   "metadata": {},
   "source": [
    "#### 4. Create a variable called `rounds_to_win` to store the number of rounds that a player must win to win the game.\n",
    "**Hint**: the value stored in `rounds_to_win` depends on the value of `n_rounds`. "
   ]
  },
  {
   "cell_type": "code",
   "execution_count": 5,
   "metadata": {},
   "outputs": [],
   "source": [
    "rounds_to_win = 6"
   ]
  },
  {
   "cell_type": "markdown",
   "metadata": {},
   "source": [
    "#### 5. Create two variables to store the number of rounds that the computer and the player have won. Call these variables `cpu_score` and `player_score`."
   ]
  },
  {
   "cell_type": "code",
   "execution_count": 6,
   "metadata": {},
   "outputs": [],
   "source": [
    "cpu_score = 0\n",
    "player_score = 0"
   ]
  },
  {
   "cell_type": "markdown",
   "metadata": {},
   "source": [
    "#### 6. Define a function that randomly returns one of the 3 gesture options.\n",
    "You will use this function to simulate the gesture choice of the computer. "
   ]
  },
  {
   "cell_type": "code",
   "execution_count": 7,
   "metadata": {},
   "outputs": [],
   "source": [
    "def CPU_choice():\n",
    "    cpu = random.choice(gestures)\n",
    "    return cpu"
   ]
  },
  {
   "cell_type": "markdown",
   "metadata": {},
   "source": [
    "#### 7. Define a function that asks the player which is the gesture he or she wants to show: 'rock', 'paper' or 'scissors'.\n",
    "The player should only be allowed to choose one of the 3 gesture options. If the player's choice is not rock, paper or scissors, keep asking until it is."
   ]
  },
  {
   "cell_type": "code",
   "execution_count": 8,
   "metadata": {},
   "outputs": [],
   "source": [
    "def Player_choice():\n",
    "    while True:\n",
    "        player = input(\"rock \\npaper \\nscissors \\nFaça sua escolha:\")\n",
    "        if (player == \"rock\") or (player == \"paper\") or (player == \"scissors\"):\n",
    "            return player\n",
    "            break\n",
    "        else:\n",
    "            continue"
   ]
  },
  {
   "cell_type": "markdown",
   "metadata": {},
   "source": [
    "#### 8. Define a function that checks who won a round. \n",
    "The function should return 0 if there is a tie, 1 if the computer wins and 2 if the player wins."
   ]
  },
  {
   "cell_type": "code",
   "execution_count": 9,
   "metadata": {},
   "outputs": [],
   "source": [
    "def result(cpu_gesture, player_gesture):\n",
    "    if cpu_gesture == player_gesture:\n",
    "        return 0\n",
    "    elif (cpu_gesture == \"rock\" and player_gesture == \"scissors\") or (cpu_gesture == \"paper\" and player_gesture == \"rock\") or (cpu_gesture == \"scissors\" and player_gesture == \"paper\"):\n",
    "        return 1\n",
    "    else:\n",
    "        return 2"
   ]
  },
  {
   "cell_type": "markdown",
   "metadata": {},
   "source": [
    "#### 9. Define a function that prints the choice of the computer, the choice of the player and a message that announces who won the current round. \n",
    "You should also use this function to update the variables that count the number of rounds that the computer and the player have won. The score of the winner increases by one point. If there is a tie, the score does not increase."
   ]
  },
  {
   "cell_type": "code",
   "execution_count": 10,
   "metadata": {},
   "outputs": [],
   "source": [
    "def rounds():  \n",
    "    global cpu_score\n",
    "    global player_score\n",
    "    print(\"\\nCPU: %s x Player: %s\" % (cpu_gesture, player_gesture))\n",
    "    if result_match == 0:\n",
    "        print(\"Rodada empatada!!!!\")\n",
    "    elif result_match == 1:\n",
    "        print(\"Computador VENCEU esta rodada!!!!\")\n",
    "        cpu_score += 1\n",
    "        return cpu_score\n",
    "    else:\n",
    "        print(\"Você VENCEU esta rodada!!!\")\n",
    "        player_score += 1\n",
    "        return player_score"
   ]
  },
  {
   "cell_type": "markdown",
   "metadata": {},
   "source": [
    "#### 10. Now it's time to code the execution of the game using the functions and variables you defined above. \n",
    "\n",
    "First, create a loop structure that repeats while no player reaches the minimum score necessary to win and the number of rounds is less than the maximum number of rounds to play in a game.  \n",
    "\n",
    "Inside the loop, use the functions and variables above to create the execution of a round: ask for the player's choice, generate the random choice of the computer, show the round results, update the scores, etc. "
   ]
  },
  {
   "cell_type": "code",
   "execution_count": 11,
   "metadata": {},
   "outputs": [
    {
     "name": "stdout",
     "output_type": "stream",
     "text": [
      "rock \n",
      "paper \n",
      "scissors \n",
      "Faça sua escolha:rock\n",
      "\n",
      "CPU: scissors x Player: rock\n",
      "Você VENCEU esta rodada!!!\n",
      "Jogador:  1\n",
      "Computador:  0\n",
      "rock \n",
      "paper \n",
      "scissors \n",
      "Faça sua escolha:rock\n",
      "\n",
      "CPU: scissors x Player: rock\n",
      "Você VENCEU esta rodada!!!\n",
      "Jogador:  2\n",
      "Computador:  0\n",
      "rock \n",
      "paper \n",
      "scissors \n",
      "Faça sua escolha:paper\n",
      "\n",
      "CPU: scissors x Player: paper\n",
      "Computador VENCEU esta rodada!!!!\n",
      "Jogador:  2\n",
      "Computador:  1\n",
      "rock \n",
      "paper \n",
      "scissors \n",
      "Faça sua escolha:scissors\n",
      "\n",
      "CPU: scissors x Player: scissors\n",
      "Rodada empatada!!!!\n",
      "Jogador:  2\n",
      "Computador:  1\n",
      "rock \n",
      "paper \n",
      "scissors \n",
      "Faça sua escolha:rock\n",
      "\n",
      "CPU: rock x Player: rock\n",
      "Rodada empatada!!!!\n",
      "Jogador:  2\n",
      "Computador:  1\n",
      "rock \n",
      "paper \n",
      "scissors \n",
      "Faça sua escolha:paper\n",
      "\n",
      "CPU: paper x Player: paper\n",
      "Rodada empatada!!!!\n",
      "Jogador:  2\n",
      "Computador:  1\n",
      "rock \n",
      "paper \n",
      "scissors \n",
      "Faça sua escolha:paper\n",
      "\n",
      "CPU: rock x Player: paper\n",
      "Você VENCEU esta rodada!!!\n",
      "Jogador:  3\n",
      "Computador:  1\n",
      "rock \n",
      "paper \n",
      "scissors \n",
      "Faça sua escolha:rock\n",
      "\n",
      "CPU: scissors x Player: rock\n",
      "Você VENCEU esta rodada!!!\n",
      "Jogador:  4\n",
      "Computador:  1\n",
      "rock \n",
      "paper \n",
      "scissors \n",
      "Faça sua escolha:rock\n",
      "\n",
      "CPU: paper x Player: rock\n",
      "Computador VENCEU esta rodada!!!!\n",
      "Jogador:  4\n",
      "Computador:  2\n",
      "rock \n",
      "paper \n",
      "scissors \n",
      "Faça sua escolha:paper\n",
      "\n",
      "CPU: scissors x Player: paper\n",
      "Computador VENCEU esta rodada!!!!\n",
      "Jogador:  4\n",
      "Computador:  3\n"
     ]
    }
   ],
   "source": [
    "i = 0\n",
    "while i < n_rounds:\n",
    "    cpu_gesture = CPU_choice()\n",
    "    player_gesture = Player_choice()\n",
    "    result_match = result(cpu_gesture, player_gesture)\n",
    "    game_rounds = rounds()\n",
    "    print(\"Jogador: \", player_score)\n",
    "    print(\"Computador: \", cpu_score)\n",
    "    if player_score == rounds_to_win:\n",
    "        break;\n",
    "    elif cpu_score == rounds_to_win:\n",
    "        break;\n",
    "    else:\n",
    "        i += 1\n",
    "\n"
   ]
  },
  {
   "cell_type": "markdown",
   "metadata": {},
   "source": [
    "#### 11. Print the winner of the game based on who won more rounds.\n",
    "Remember that the game might be tied. "
   ]
  },
  {
   "cell_type": "code",
   "execution_count": 12,
   "metadata": {},
   "outputs": [
    {
     "name": "stdout",
     "output_type": "stream",
     "text": [
      "PARABÉNS!!! Você venceu.\n"
     ]
    }
   ],
   "source": [
    "if player_score > cpu_score:\n",
    "    print(\"PARABÉNS!!! Você venceu.\")\n",
    "elif player_score < cpu_score:\n",
    "    print(\"COMPUTADOR VENCEU!!!\")\n",
    "else:\n",
    "    print(\"O jogo terminou empatado.\")"
   ]
  },
  {
   "cell_type": "markdown",
   "metadata": {},
   "source": [
    "# Bonus: Rock, Paper, Scissors, Lizard & Spock\n",
    "![](images/rpsls.jpg)\n",
    "\n",
    "In this challenge, you need to improve the previous game by adding two new options. To know more about the rules of the improved version of rock, paper, scissors, check this [link](http://www.samkass.com/theories/RPSSL.html). \n",
    "\n",
    "In addition, you will also need to improve how the game interacts with the player: the number of rounds to play, which must be an odd number, will be requested to the user until a valid number is entered. Define a new function to make that request.\n",
    "\n",
    "**Hint**: Try to reuse the code that you already coded in the previous challenge. If your code is efficient, this bonus will only consist of simple modifications to the original game."
   ]
  },
  {
   "cell_type": "raw",
   "metadata": {},
   "source": []
  },
  {
   "cell_type": "code",
   "execution_count": null,
   "metadata": {},
   "outputs": [
    {
     "name": "stdout",
     "output_type": "stream",
     "text": [
      "Informe um número ímpar para definir a quantidade de partidas:9\n",
      "\n",
      "rock \n",
      "paper \n",
      "scissors \n",
      "lizard \n",
      "spock \n",
      "Faça sua escolha:rock\n"
     ]
    }
   ],
   "source": [
    "import random\n",
    "\n",
    "gestures2 = [\"rock\", \"paper\", \"scissors\", \"lizard\", \"spock\"]\n",
    "cpu_score2 = 0\n",
    "player_score2 = 0\n",
    "\n",
    "def n_rounds2():\n",
    "    while True:\n",
    "        n_round = int(input(\"Informe um número ímpar para definir a quantidade de partidas:\"))\n",
    "        if (n_round >= 0) and (n_round % 2 != 0):\n",
    "            return n_round\n",
    "            break \n",
    "        else:\n",
    "            continue  \n",
    "        \n",
    "        \n",
    "def CPU_choice2():\n",
    "    cpu2 = random.choice(gestures2)\n",
    "    return cpu2\n",
    "\n",
    "\n",
    "def Player_choice2():\n",
    "    while True:\n",
    "        player2 = input(\"\\nrock \\npaper \\nscissors \\nlizard \\nspock \\nFaça sua escolha:\")\n",
    "        if (player2 == \"rock\") or (player2 == \"paper\") or (player2 == \"scissors\") or (player2 == \"lizard\") or (player2 == \"spock\"):\n",
    "            return player2\n",
    "            break\n",
    "        else:\n",
    "            continue\n",
    "            \n",
    "def result2(cpu_gesture2, player_gesture2):\n",
    "    if cpu_gesture2 == player_gesture2:\n",
    "        return 0\n",
    "    elif (cpu_gesture2 == \"rock\" and player_gesture2 == \"scissors\") or (cpu_gesture2 == \"rock\" and player_gesture2 == \"lizard\"):\n",
    "        return 1\n",
    "    elif (cpu_gesture2 == \"paper\" and player_gesture2 == \"rock\") or (cpu_gesture2 == \"paper\" and player_gesture2 == \"spock\"):\n",
    "        return 1\n",
    "    elif (cpu_gesture2 == \"scissors\" and player_gesture2 == \"paper\") or (cpu_gesture2 == \"scissors\" and player_gesture2 == \"lizard\"):\n",
    "        return 1\n",
    "    elif (cpu_gesture2 == \"lizard\" and player_gesture2 == \"paper\") or (cpu_gesture2 == \"lizard\" and player_gesture2 == \"spock\"):\n",
    "        return 1\n",
    "    elif (cpu_gesture2 == \"spock\" and player_gesture2 == \"rock\") or (cpu_gesture2 == \"spock\" and player_gesture2 == \"scissors\"):\n",
    "        return 1\n",
    "    else:\n",
    "        return 2\n",
    "    \n",
    "def rounds2():  \n",
    "    global cpu_score2\n",
    "    global player_score2\n",
    "    print(\"\\nCPU: %s x Player: %s\" % (cpu_gesture2, player_gesture2))\n",
    "    if result_match2 == 0:\n",
    "        print(\"Rodada empatada!!!!\")\n",
    "    elif result_match2 == 1:\n",
    "        print(\"Computador VENCEU esta rodada!!!!\")\n",
    "        cpu_score2 += 1\n",
    "        return cpu_score2\n",
    "    else:\n",
    "        print(\"Você VENCEU esta rodada!!!\")\n",
    "        player_score2 += 1\n",
    "        return player_score2\n",
    "    \n",
    "def win():\n",
    "    if player_score2 > cpu_score2:\n",
    "        print(\"PARABÉNS!!! Você venceu.\")\n",
    "    elif player_score2 < cpu_score2:\n",
    "        print(\"COMPUTADOR VENCEU!!!\")\n",
    "    else:\n",
    "        print(\"O jogo terminou empatado.\")\n",
    "    \n",
    "def player():\n",
    "    global cpu_gesture2\n",
    "    global player_gesture2\n",
    "    global result_match2\n",
    "    i = 0\n",
    "    n_rounds = n_rounds2()\n",
    "    \n",
    "    if n_rounds > 1:\n",
    "        rounds_to_win = ((n_rounds - 1) / 2) + 1\n",
    "    else:\n",
    "        rounds_to_win = 1\n",
    "        \n",
    "    \n",
    "    while i < n_rounds:\n",
    "        cpu_gesture2 = CPU_choice2()\n",
    "        player_gesture2 = Player_choice2()\n",
    "        result_match2 = result2(cpu_gesture2, player_gesture2)\n",
    "        game_rounds = rounds2()\n",
    "        print(\"Jogador: \", player_score2)\n",
    "        print(\"Computador: \", cpu_score2)\n",
    "        if player_score2 == rounds_to_win:\n",
    "            break;\n",
    "        elif cpu_score2 == rounds_to_win:\n",
    "            break;\n",
    "        else:\n",
    "            i += 1\n",
    "    win()\n",
    "    \n",
    "player()\n",
    "            \n"
   ]
  },
  {
   "cell_type": "code",
   "execution_count": null,
   "metadata": {},
   "outputs": [],
   "source": []
  },
  {
   "cell_type": "code",
   "execution_count": null,
   "metadata": {},
   "outputs": [],
   "source": []
  }
 ],
 "metadata": {
  "kernelspec": {
   "display_name": "Python 3",
   "language": "python",
   "name": "python3"
  },
  "language_info": {
   "codemirror_mode": {
    "name": "ipython",
    "version": 3
   },
   "file_extension": ".py",
   "mimetype": "text/x-python",
   "name": "python",
   "nbconvert_exporter": "python",
   "pygments_lexer": "ipython3",
   "version": "3.7.4"
  }
 },
 "nbformat": 4,
 "nbformat_minor": 2
}
